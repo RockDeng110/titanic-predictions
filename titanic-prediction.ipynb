{
 "cells": [
  {
   "cell_type": "markdown",
   "id": "d6898531",
   "metadata": {},
   "source": [
    "# Titanic Prediction\n",
    "## 1. Project Description\n",
    "\n",
    "* Purpose: Build supervised models on Titanic dataset and predict whether passengers will survive or not\n",
    "* Methods: Build with models of Logistic regress and Random Forest\n",
    "* Evaluation: Compare the models of Logistic regress and Random Forest with accuracy, performance and others.\n",
    "\n",
    "\n",
    "## 2. Data description \n",
    "***Data source: https://www.kaggle.com/datasets/pavlofesenko/titanic-extended***\n",
    "\n",
    "This is a classic Titanic dataset extended with the features from the Titanic passenger list on Wikipedia available as of February 2019. It contains ***1309 entries*** and ***21 features*** in total.\n",
    "\n",
    "The first 12 features in this dataset are the same as in the Titanic competition [kaggle](https://www.kaggle.com/). \n",
    "\n",
    "|Varaible   | Definition  | Key|\n",
    "| :------------- |:-------------| :-----|\n",
    "|survival\t|Survival\t|0 = No, 1 = Yes|\n",
    "|pclass\t|Ticket class\t|1 = 1st, 2 = 2nd, 3 = 3rd|\n",
    "|sex\t|Sex\t||\n",
    "|Age\t|Age in years\t||\n",
    "|sibsp\t|# of siblings / spouses aboard the Titanic\t||\n",
    "|parch\t|# of parents / children aboard the Titanic||\t\n",
    "|ticket\t|Ticket number\t| |\n",
    "|fare\t|Passenger fare\t| |\n",
    "|cabin\t|Cabin number\t| |\n",
    "|embarked\t|Port of Embarkation\t|C = Cherbourg, Q = Queenstown, S = Southampton|\n",
    "\n",
    "The last 9 features are added from the [Titanic passenger list on Wikipedia](https://en.wikipedia.org/wiki/Passengers_of_the_RMS_Titanic) and are as follows:\n",
    "* WikiId\n",
    "* Name\n",
    "* Age\n",
    "* Hometown\n",
    "* Boarded\n",
    "* Destination\n",
    "* Lifeboat\n",
    "* Body\n",
    "* Class\n",
    "\n",
    "\n",
    "The new features are very similar to the original ones but they are more up-to-date and have much fewer missing values. Therefore, users can decide on the preferred features themselves.\n",
    "\n"
   ]
  },
  {
   "cell_type": "code",
   "execution_count": null,
   "id": "666789de",
   "metadata": {},
   "outputs": [],
   "source": []
  },
  {
   "cell_type": "code",
   "execution_count": 1,
   "id": "bec36b7e",
   "metadata": {},
   "outputs": [],
   "source": [
    "# importing all the required libraries\n",
    "import math\n",
    "import pickle\n",
    "\n",
    "from math import exp\n",
    "import numpy as np\n",
    "import pandas as pd\n",
    "import seaborn as sns\n",
    "import sklearn\n",
    "from sklearn.linear_model import LogisticRegression\n",
    "from sklearn.tree import DecisionTreeClassifier\n",
    "from sklearn.datasets import load_breast_cancer\n",
    "from sklearn.model_selection import train_test_split, cross_val_score\n",
    "from sklearn.metrics import accuracy_score, confusion_matrix, precision_score, recall_score, ConfusionMatrixDisplay\n",
    "\n",
    "import matplotlib.pyplot as plt\n",
    "%matplotlib inline\n",
    "\n",
    "from sklearn.metrics import roc_auc_score\n",
    "from sklearn.metrics import roc_curve"
   ]
  },
  {
   "cell_type": "markdown",
   "id": "819823e5",
   "metadata": {},
   "source": [
    "##### Load the dataset and understand the dataset\n",
    "\n",
    "There are actually three files from the data source, which are fill.csv, train.csv and test.csv, but I think only the fill.csv is enough for this task.\n",
    "\n",
    "* Simplicity - Full.csv contain all the data including those in train.csv and test.csv\n",
    "* Flexibility - You can split the data set many times and even in different proportions for specific task.\n"
   ]
  },
  {
   "cell_type": "code",
   "execution_count": 2,
   "id": "9d9593eb",
   "metadata": {},
   "outputs": [],
   "source": [
    "df = pd.read_csv(\"full.csv\")"
   ]
  },
  {
   "cell_type": "code",
   "execution_count": 3,
   "id": "5f45df41",
   "metadata": {
    "scrolled": true
   },
   "outputs": [
    {
     "name": "stdout",
     "output_type": "stream",
     "text": [
      "<class 'pandas.core.frame.DataFrame'>\n",
      "RangeIndex: 1309 entries, 0 to 1308\n",
      "Data columns (total 21 columns):\n",
      " #   Column       Non-Null Count  Dtype  \n",
      "---  ------       --------------  -----  \n",
      " 0   PassengerId  1309 non-null   int64  \n",
      " 1   Survived     891 non-null    float64\n",
      " 2   Pclass       1309 non-null   int64  \n",
      " 3   Name         1309 non-null   object \n",
      " 4   Sex          1309 non-null   object \n",
      " 5   Age          1046 non-null   float64\n",
      " 6   SibSp        1309 non-null   int64  \n",
      " 7   Parch        1309 non-null   int64  \n",
      " 8   Ticket       1309 non-null   object \n",
      " 9   Fare         1308 non-null   float64\n",
      " 10  Cabin        295 non-null    object \n",
      " 11  Embarked     1307 non-null   object \n",
      " 12  WikiId       1304 non-null   float64\n",
      " 13  Name_wiki    1304 non-null   object \n",
      " 14  Age_wiki     1302 non-null   float64\n",
      " 15  Hometown     1304 non-null   object \n",
      " 16  Boarded      1304 non-null   object \n",
      " 17  Destination  1304 non-null   object \n",
      " 18  Lifeboat     502 non-null    object \n",
      " 19  Body         130 non-null    object \n",
      " 20  Class        1304 non-null   float64\n",
      "dtypes: float64(6), int64(4), object(11)\n",
      "memory usage: 214.9+ KB\n"
     ]
    },
    {
     "data": {
      "text/html": [
       "<div>\n",
       "<style scoped>\n",
       "    .dataframe tbody tr th:only-of-type {\n",
       "        vertical-align: middle;\n",
       "    }\n",
       "\n",
       "    .dataframe tbody tr th {\n",
       "        vertical-align: top;\n",
       "    }\n",
       "\n",
       "    .dataframe thead th {\n",
       "        text-align: right;\n",
       "    }\n",
       "</style>\n",
       "<table border=\"1\" class=\"dataframe\">\n",
       "  <thead>\n",
       "    <tr style=\"text-align: right;\">\n",
       "      <th></th>\n",
       "      <th>PassengerId</th>\n",
       "      <th>Survived</th>\n",
       "      <th>Pclass</th>\n",
       "      <th>Name</th>\n",
       "      <th>Sex</th>\n",
       "      <th>Age</th>\n",
       "      <th>SibSp</th>\n",
       "      <th>Parch</th>\n",
       "      <th>Ticket</th>\n",
       "      <th>Fare</th>\n",
       "      <th>...</th>\n",
       "      <th>Embarked</th>\n",
       "      <th>WikiId</th>\n",
       "      <th>Name_wiki</th>\n",
       "      <th>Age_wiki</th>\n",
       "      <th>Hometown</th>\n",
       "      <th>Boarded</th>\n",
       "      <th>Destination</th>\n",
       "      <th>Lifeboat</th>\n",
       "      <th>Body</th>\n",
       "      <th>Class</th>\n",
       "    </tr>\n",
       "  </thead>\n",
       "  <tbody>\n",
       "    <tr>\n",
       "      <th>0</th>\n",
       "      <td>1</td>\n",
       "      <td>0.0</td>\n",
       "      <td>3</td>\n",
       "      <td>Braund, Mr. Owen Harris</td>\n",
       "      <td>male</td>\n",
       "      <td>22.0</td>\n",
       "      <td>1</td>\n",
       "      <td>0</td>\n",
       "      <td>A/5 21171</td>\n",
       "      <td>7.2500</td>\n",
       "      <td>...</td>\n",
       "      <td>S</td>\n",
       "      <td>691.0</td>\n",
       "      <td>Braund, Mr. Owen Harris</td>\n",
       "      <td>22.0</td>\n",
       "      <td>Bridgerule, Devon, England</td>\n",
       "      <td>Southampton</td>\n",
       "      <td>Qu'Appelle Valley, Saskatchewan, Canada</td>\n",
       "      <td>NaN</td>\n",
       "      <td>NaN</td>\n",
       "      <td>3.0</td>\n",
       "    </tr>\n",
       "    <tr>\n",
       "      <th>1</th>\n",
       "      <td>2</td>\n",
       "      <td>1.0</td>\n",
       "      <td>1</td>\n",
       "      <td>Cumings, Mrs. John Bradley (Florence Briggs Th...</td>\n",
       "      <td>female</td>\n",
       "      <td>38.0</td>\n",
       "      <td>1</td>\n",
       "      <td>0</td>\n",
       "      <td>PC 17599</td>\n",
       "      <td>71.2833</td>\n",
       "      <td>...</td>\n",
       "      <td>C</td>\n",
       "      <td>90.0</td>\n",
       "      <td>Cumings, Mrs. Florence Briggs (née Thayer)</td>\n",
       "      <td>35.0</td>\n",
       "      <td>New York, New York, US</td>\n",
       "      <td>Cherbourg</td>\n",
       "      <td>New York, New York, US</td>\n",
       "      <td>4</td>\n",
       "      <td>NaN</td>\n",
       "      <td>1.0</td>\n",
       "    </tr>\n",
       "    <tr>\n",
       "      <th>2</th>\n",
       "      <td>3</td>\n",
       "      <td>1.0</td>\n",
       "      <td>3</td>\n",
       "      <td>Heikkinen, Miss. Laina</td>\n",
       "      <td>female</td>\n",
       "      <td>26.0</td>\n",
       "      <td>0</td>\n",
       "      <td>0</td>\n",
       "      <td>STON/O2. 3101282</td>\n",
       "      <td>7.9250</td>\n",
       "      <td>...</td>\n",
       "      <td>S</td>\n",
       "      <td>865.0</td>\n",
       "      <td>Heikkinen, Miss Laina</td>\n",
       "      <td>26.0</td>\n",
       "      <td>Jyväskylä, Finland</td>\n",
       "      <td>Southampton</td>\n",
       "      <td>New York City</td>\n",
       "      <td>14?</td>\n",
       "      <td>NaN</td>\n",
       "      <td>3.0</td>\n",
       "    </tr>\n",
       "    <tr>\n",
       "      <th>3</th>\n",
       "      <td>4</td>\n",
       "      <td>1.0</td>\n",
       "      <td>1</td>\n",
       "      <td>Futrelle, Mrs. Jacques Heath (Lily May Peel)</td>\n",
       "      <td>female</td>\n",
       "      <td>35.0</td>\n",
       "      <td>1</td>\n",
       "      <td>0</td>\n",
       "      <td>113803</td>\n",
       "      <td>53.1000</td>\n",
       "      <td>...</td>\n",
       "      <td>S</td>\n",
       "      <td>127.0</td>\n",
       "      <td>Futrelle, Mrs. Lily May (née Peel)</td>\n",
       "      <td>35.0</td>\n",
       "      <td>Scituate, Massachusetts, US</td>\n",
       "      <td>Southampton</td>\n",
       "      <td>Scituate, Massachusetts, US</td>\n",
       "      <td>D</td>\n",
       "      <td>NaN</td>\n",
       "      <td>1.0</td>\n",
       "    </tr>\n",
       "    <tr>\n",
       "      <th>4</th>\n",
       "      <td>5</td>\n",
       "      <td>0.0</td>\n",
       "      <td>3</td>\n",
       "      <td>Allen, Mr. William Henry</td>\n",
       "      <td>male</td>\n",
       "      <td>35.0</td>\n",
       "      <td>0</td>\n",
       "      <td>0</td>\n",
       "      <td>373450</td>\n",
       "      <td>8.0500</td>\n",
       "      <td>...</td>\n",
       "      <td>S</td>\n",
       "      <td>627.0</td>\n",
       "      <td>Allen, Mr. William Henry</td>\n",
       "      <td>35.0</td>\n",
       "      <td>Birmingham, West Midlands, England</td>\n",
       "      <td>Southampton</td>\n",
       "      <td>New York City</td>\n",
       "      <td>NaN</td>\n",
       "      <td>NaN</td>\n",
       "      <td>3.0</td>\n",
       "    </tr>\n",
       "  </tbody>\n",
       "</table>\n",
       "<p>5 rows × 21 columns</p>\n",
       "</div>"
      ],
      "text/plain": [
       "   PassengerId  Survived  Pclass  \\\n",
       "0            1       0.0       3   \n",
       "1            2       1.0       1   \n",
       "2            3       1.0       3   \n",
       "3            4       1.0       1   \n",
       "4            5       0.0       3   \n",
       "\n",
       "                                                Name     Sex   Age  SibSp  \\\n",
       "0                            Braund, Mr. Owen Harris    male  22.0      1   \n",
       "1  Cumings, Mrs. John Bradley (Florence Briggs Th...  female  38.0      1   \n",
       "2                             Heikkinen, Miss. Laina  female  26.0      0   \n",
       "3       Futrelle, Mrs. Jacques Heath (Lily May Peel)  female  35.0      1   \n",
       "4                           Allen, Mr. William Henry    male  35.0      0   \n",
       "\n",
       "   Parch            Ticket     Fare  ... Embarked WikiId  \\\n",
       "0      0         A/5 21171   7.2500  ...        S  691.0   \n",
       "1      0          PC 17599  71.2833  ...        C   90.0   \n",
       "2      0  STON/O2. 3101282   7.9250  ...        S  865.0   \n",
       "3      0            113803  53.1000  ...        S  127.0   \n",
       "4      0            373450   8.0500  ...        S  627.0   \n",
       "\n",
       "                                    Name_wiki Age_wiki  \\\n",
       "0                     Braund, Mr. Owen Harris     22.0   \n",
       "1  Cumings, Mrs. Florence Briggs (née Thayer)     35.0   \n",
       "2                       Heikkinen, Miss Laina     26.0   \n",
       "3          Futrelle, Mrs. Lily May (née Peel)     35.0   \n",
       "4                    Allen, Mr. William Henry     35.0   \n",
       "\n",
       "                             Hometown      Boarded  \\\n",
       "0          Bridgerule, Devon, England  Southampton   \n",
       "1              New York, New York, US    Cherbourg   \n",
       "2                  Jyväskylä, Finland  Southampton   \n",
       "3         Scituate, Massachusetts, US  Southampton   \n",
       "4  Birmingham, West Midlands, England  Southampton   \n",
       "\n",
       "                               Destination Lifeboat Body Class  \n",
       "0  Qu'Appelle Valley, Saskatchewan, Canada      NaN  NaN   3.0  \n",
       "1                   New York, New York, US        4  NaN   1.0  \n",
       "2                            New York City      14?  NaN   3.0  \n",
       "3              Scituate, Massachusetts, US        D  NaN   1.0  \n",
       "4                            New York City      NaN  NaN   3.0  \n",
       "\n",
       "[5 rows x 21 columns]"
      ]
     },
     "execution_count": 3,
     "metadata": {},
     "output_type": "execute_result"
    }
   ],
   "source": [
    "df.info()\n",
    "df.head()"
   ]
  },
  {
   "cell_type": "markdown",
   "id": "9083de12",
   "metadata": {},
   "source": [
    "##### Identify categorical and numerical features/variables"
   ]
  },
  {
   "cell_type": "code",
   "execution_count": 4,
   "id": "b7c42ea1",
   "metadata": {},
   "outputs": [
    {
     "name": "stdout",
     "output_type": "stream",
     "text": [
      "There are 11 categorical features\n",
      "\n",
      "The categorical features are : ['Name', 'Sex', 'Ticket', 'Cabin', 'Embarked', 'Name_wiki', 'Hometown', 'Boarded', 'Destination', 'Lifeboat', 'Body']\n"
     ]
    }
   ],
   "source": [
    "# find categorical features\n",
    "categorical = [var for var in df.columns if df[var].dtype=='O']\n",
    "\n",
    "print('There are {} categorical features\\n'.format(len(categorical)))\n",
    "\n",
    "print('The categorical features are :', categorical)\n"
   ]
  },
  {
   "cell_type": "markdown",
   "id": "a5317c18",
   "metadata": {},
   "source": [
    "##### There are 11 categorical features including 'Name', 'Sex', 'Ticket', 'Cabin', 'Embarked', 'Name_wiki', 'Hometown', 'Boarded', 'Destination', 'Lifeboat'  and 'Body."
   ]
  },
  {
   "cell_type": "code",
   "execution_count": 5,
   "id": "93284027",
   "metadata": {},
   "outputs": [
    {
     "name": "stdout",
     "output_type": "stream",
     "text": [
      "There are 10 numerical features\n",
      "\n",
      "The numerical features are : ['PassengerId', 'Survived', 'Pclass', 'Age', 'SibSp', 'Parch', 'Fare', 'WikiId', 'Age_wiki', 'Class']\n"
     ]
    }
   ],
   "source": [
    "# find numerical features\n",
    "\n",
    "numerical = [var for var in df.columns if df[var].dtype!='O']\n",
    "\n",
    "print('There are {} numerical features\\n'.format(len(numerical)))\n",
    "\n",
    "print('The numerical features are :', numerical)"
   ]
  },
  {
   "cell_type": "markdown",
   "id": "8a90d63c",
   "metadata": {},
   "source": [
    "##### There are 10 categorical features including 'PassengerId', 'Survived', 'Pclass', 'Age', 'SibSp', 'Parch', 'Fare', 'WikiId', 'Age_wiki' and 'Class'."
   ]
  },
  {
   "cell_type": "markdown",
   "id": "f4c35890",
   "metadata": {},
   "source": [
    "## 3. Data Cleaning\n"
   ]
  },
  {
   "cell_type": "markdown",
   "id": "387cbd8f",
   "metadata": {},
   "source": [
    "### 3.1 Drop duplicated collume/features\n",
    "As the feathers added from wikipedia are more up-to-date and have less missing value, I just choose to drop the duplicated features from original dataset.\n",
    "\n",
    "|Original | Extended from wikipedia|\n",
    "|:--------|:----------|\n",
    "|Pclass|Class|\n",
    "|Name|Name_wiki|\n",
    "|Age|Age_wiki|\n",
    "|Embarked|Boarded|"
   ]
  },
  {
   "cell_type": "code",
   "execution_count": 6,
   "id": "08b3427c",
   "metadata": {
    "scrolled": true
   },
   "outputs": [
    {
     "name": "stdout",
     "output_type": "stream",
     "text": [
      "<class 'pandas.core.frame.DataFrame'>\n",
      "RangeIndex: 1309 entries, 0 to 1308\n",
      "Data columns (total 17 columns):\n",
      " #   Column       Non-Null Count  Dtype  \n",
      "---  ------       --------------  -----  \n",
      " 0   PassengerId  1309 non-null   int64  \n",
      " 1   Survived     891 non-null    float64\n",
      " 2   Sex          1309 non-null   object \n",
      " 3   SibSp        1309 non-null   int64  \n",
      " 4   Parch        1309 non-null   int64  \n",
      " 5   Ticket       1309 non-null   object \n",
      " 6   Fare         1308 non-null   float64\n",
      " 7   Cabin        295 non-null    object \n",
      " 8   WikiId       1304 non-null   float64\n",
      " 9   Name_wiki    1304 non-null   object \n",
      " 10  Age_wiki     1302 non-null   float64\n",
      " 11  Hometown     1304 non-null   object \n",
      " 12  Boarded      1304 non-null   object \n",
      " 13  Destination  1304 non-null   object \n",
      " 14  Lifeboat     502 non-null    object \n",
      " 15  Body         130 non-null    object \n",
      " 16  Class        1304 non-null   float64\n",
      "dtypes: float64(5), int64(3), object(9)\n",
      "memory usage: 174.0+ KB\n"
     ]
    }
   ],
   "source": [
    "duplicated_features = ['Pclass', 'Name', 'Age', 'Embarked']\n",
    "df = df.drop(duplicated_features, axis=1)\n",
    "df.info()"
   ]
  },
  {
   "cell_type": "markdown",
   "id": "fc967ca9",
   "metadata": {},
   "source": [
    "### 3.2 Check propotion of null value in each features\n"
   ]
  },
  {
   "cell_type": "code",
   "execution_count": 7,
   "id": "f761eafc",
   "metadata": {},
   "outputs": [
    {
     "data": {
      "image/png": "[encoded data removed]",
      "text/plain": [
       "<Figure size 2000x500 with 1 Axes>"
      ]
     },
     "metadata": {},
     "output_type": "display_data"
    }
   ],
   "source": [
    "\n",
    "def null_propotion(df):\n",
    "    propotions = []\n",
    "    features = []\n",
    "    for var in df.columns:\n",
    "        p = df[var].isnull().sum()  / len(df[var])\n",
    "        propotions.append(p)\n",
    "        features.append(var)\n",
    "        #print(\"Feature: {}  null value propotion:{}\".format(var, p))\n",
    "    #print(features)\n",
    "    #print(propotions)\n",
    "\n",
    "    fig = plt.figure(figsize = (20, 5))\n",
    "    plt.bar(features, propotions)\n",
    "    plt.show()\n",
    "null_propotion(df)"
   ]
  },
  {
   "cell_type": "markdown",
   "id": "6b8a1a28",
   "metadata": {},
   "source": [
    "* As we can see, over 50% of entries if Cabin, Lifeboat and Body is null, so we can just drop thoes features.\n",
    "* There are more than 30% entries have no Survived label, because the full dataset combines the train set and test set which has no Survived value.\n",
    "* I'm going to just drop those non value entries later.\n"
   ]
  },
  {
   "cell_type": "code",
   "execution_count": 8,
   "id": "8db240ba",
   "metadata": {},
   "outputs": [],
   "source": [
    "null_features = ['Cabin', 'Lifeboat', 'Body']\n",
    "df = df.drop(null_features, axis=1)\n"
   ]
  },
  {
   "cell_type": "code",
   "execution_count": 9,
   "id": "38351bd0",
   "metadata": {
    "scrolled": true
   },
   "outputs": [
    {
     "data": {
      "image/png": "[encoded data removed]",
      "text/plain": [
       "<Figure size 2000x500 with 1 Axes>"
      ]
     },
     "metadata": {},
     "output_type": "display_data"
    }
   ],
   "source": [
    "null_propotion(df.drop(['Survived'], axis=1))"
   ]
  },
  {
   "cell_type": "markdown",
   "id": "b759eb43",
   "metadata": {},
   "source": [
    "* From the above graphic, we can see that there are less than 1% nan value in each features\n",
    "* I'm going to just drop all of them, and that won't affect much for the size of the data set."
   ]
  },
  {
   "cell_type": "code",
   "execution_count": 10,
   "id": "dd02e76c",
   "metadata": {},
   "outputs": [
    {
     "name": "stdout",
     "output_type": "stream",
     "text": [
      "<class 'pandas.core.frame.DataFrame'>\n",
      "Int64Index: 887 entries, 0 to 890\n",
      "Data columns (total 14 columns):\n",
      " #   Column       Non-Null Count  Dtype  \n",
      "---  ------       --------------  -----  \n",
      " 0   PassengerId  887 non-null    int64  \n",
      " 1   Survived     887 non-null    float64\n",
      " 2   Sex          887 non-null    object \n",
      " 3   SibSp        887 non-null    int64  \n",
      " 4   Parch        887 non-null    int64  \n",
      " 5   Ticket       887 non-null    object \n",
      " 6   Fare         887 non-null    float64\n",
      " 7   WikiId       887 non-null    float64\n",
      " 8   Name_wiki    887 non-null    object \n",
      " 9   Age_wiki     887 non-null    float64\n",
      " 10  Hometown     887 non-null    object \n",
      " 11  Boarded      887 non-null    object \n",
      " 12  Destination  887 non-null    object \n",
      " 13  Class        887 non-null    float64\n",
      "dtypes: float64(5), int64(3), object(6)\n",
      "memory usage: 103.9+ KB\n"
     ]
    }
   ],
   "source": [
    "df = df.dropna()\n",
    "df.info()"
   ]
  },
  {
   "cell_type": "markdown",
   "id": "8b6bb642",
   "metadata": {},
   "source": [
    "* Still ***887*** entries remain.\n",
    "* That will be enough for our model trainning."
   ]
  },
  {
   "cell_type": "markdown",
   "id": "e19ac337",
   "metadata": {},
   "source": [
    "### 3.3 Drop the features not helpful for this task\n"
   ]
  },
  {
   "cell_type": "code",
   "execution_count": 11,
   "id": "2ab70dba",
   "metadata": {},
   "outputs": [
    {
     "name": "stdout",
     "output_type": "stream",
     "text": [
      "<class 'pandas.core.frame.DataFrame'>\n",
      "Int64Index: 887 entries, 0 to 890\n",
      "Data columns (total 14 columns):\n",
      " #   Column       Non-Null Count  Dtype  \n",
      "---  ------       --------------  -----  \n",
      " 0   PassengerId  887 non-null    int64  \n",
      " 1   Survived     887 non-null    float64\n",
      " 2   Sex          887 non-null    object \n",
      " 3   SibSp        887 non-null    int64  \n",
      " 4   Parch        887 non-null    int64  \n",
      " 5   Ticket       887 non-null    object \n",
      " 6   Fare         887 non-null    float64\n",
      " 7   WikiId       887 non-null    float64\n",
      " 8   Name_wiki    887 non-null    object \n",
      " 9   Age_wiki     887 non-null    float64\n",
      " 10  Hometown     887 non-null    object \n",
      " 11  Boarded      887 non-null    object \n",
      " 12  Destination  887 non-null    object \n",
      " 13  Class        887 non-null    float64\n",
      "dtypes: float64(5), int64(3), object(6)\n",
      "memory usage: 103.9+ KB\n"
     ]
    },
    {
     "data": {
      "text/html": [
       "<div>\n",
       "<style scoped>\n",
       "    .dataframe tbody tr th:only-of-type {\n",
       "        vertical-align: middle;\n",
       "    }\n",
       "\n",
       "    .dataframe tbody tr th {\n",
       "        vertical-align: top;\n",
       "    }\n",
       "\n",
       "    .dataframe thead th {\n",
       "        text-align: right;\n",
       "    }\n",
       "</style>\n",
       "<table border=\"1\" class=\"dataframe\">\n",
       "  <thead>\n",
       "    <tr style=\"text-align: right;\">\n",
       "      <th></th>\n",
       "      <th>PassengerId</th>\n",
       "      <th>Survived</th>\n",
       "      <th>Sex</th>\n",
       "      <th>SibSp</th>\n",
       "      <th>Parch</th>\n",
       "      <th>Ticket</th>\n",
       "      <th>Fare</th>\n",
       "      <th>WikiId</th>\n",
       "      <th>Name_wiki</th>\n",
       "      <th>Age_wiki</th>\n",
       "      <th>Hometown</th>\n",
       "      <th>Boarded</th>\n",
       "      <th>Destination</th>\n",
       "      <th>Class</th>\n",
       "    </tr>\n",
       "  </thead>\n",
       "  <tbody>\n",
       "    <tr>\n",
       "      <th>0</th>\n",
       "      <td>1</td>\n",
       "      <td>0.0</td>\n",
       "      <td>male</td>\n",
       "      <td>1</td>\n",
       "      <td>0</td>\n",
       "      <td>A/5 21171</td>\n",
       "      <td>7.2500</td>\n",
       "      <td>691.0</td>\n",
       "      <td>Braund, Mr. Owen Harris</td>\n",
       "      <td>22.0</td>\n",
       "      <td>Bridgerule, Devon, England</td>\n",
       "      <td>Southampton</td>\n",
       "      <td>Qu'Appelle Valley, Saskatchewan, Canada</td>\n",
       "      <td>3.0</td>\n",
       "    </tr>\n",
       "    <tr>\n",
       "      <th>1</th>\n",
       "      <td>2</td>\n",
       "      <td>1.0</td>\n",
       "      <td>female</td>\n",
       "      <td>1</td>\n",
       "      <td>0</td>\n",
       "      <td>PC 17599</td>\n",
       "      <td>71.2833</td>\n",
       "      <td>90.0</td>\n",
       "      <td>Cumings, Mrs. Florence Briggs (née Thayer)</td>\n",
       "      <td>35.0</td>\n",
       "      <td>New York, New York, US</td>\n",
       "      <td>Cherbourg</td>\n",
       "      <td>New York, New York, US</td>\n",
       "      <td>1.0</td>\n",
       "    </tr>\n",
       "    <tr>\n",
       "      <th>2</th>\n",
       "      <td>3</td>\n",
       "      <td>1.0</td>\n",
       "      <td>female</td>\n",
       "      <td>0</td>\n",
       "      <td>0</td>\n",
       "      <td>STON/O2. 3101282</td>\n",
       "      <td>7.9250</td>\n",
       "      <td>865.0</td>\n",
       "      <td>Heikkinen, Miss Laina</td>\n",
       "      <td>26.0</td>\n",
       "      <td>Jyväskylä, Finland</td>\n",
       "      <td>Southampton</td>\n",
       "      <td>New York City</td>\n",
       "      <td>3.0</td>\n",
       "    </tr>\n",
       "    <tr>\n",
       "      <th>3</th>\n",
       "      <td>4</td>\n",
       "      <td>1.0</td>\n",
       "      <td>female</td>\n",
       "      <td>1</td>\n",
       "      <td>0</td>\n",
       "      <td>113803</td>\n",
       "      <td>53.1000</td>\n",
       "      <td>127.0</td>\n",
       "      <td>Futrelle, Mrs. Lily May (née Peel)</td>\n",
       "      <td>35.0</td>\n",
       "      <td>Scituate, Massachusetts, US</td>\n",
       "      <td>Southampton</td>\n",
       "      <td>Scituate, Massachusetts, US</td>\n",
       "      <td>1.0</td>\n",
       "    </tr>\n",
       "    <tr>\n",
       "      <th>4</th>\n",
       "      <td>5</td>\n",
       "      <td>0.0</td>\n",
       "      <td>male</td>\n",
       "      <td>0</td>\n",
       "      <td>0</td>\n",
       "      <td>373450</td>\n",
       "      <td>8.0500</td>\n",
       "      <td>627.0</td>\n",
       "      <td>Allen, Mr. William Henry</td>\n",
       "      <td>35.0</td>\n",
       "      <td>Birmingham, West Midlands, England</td>\n",
       "      <td>Southampton</td>\n",
       "      <td>New York City</td>\n",
       "      <td>3.0</td>\n",
       "    </tr>\n",
       "  </tbody>\n",
       "</table>\n",
       "</div>"
      ],
      "text/plain": [
       "   PassengerId  Survived     Sex  SibSp  Parch            Ticket     Fare  \\\n",
       "0            1       0.0    male      1      0         A/5 21171   7.2500   \n",
       "1            2       1.0  female      1      0          PC 17599  71.2833   \n",
       "2            3       1.0  female      0      0  STON/O2. 3101282   7.9250   \n",
       "3            4       1.0  female      1      0            113803  53.1000   \n",
       "4            5       0.0    male      0      0            373450   8.0500   \n",
       "\n",
       "   WikiId                                   Name_wiki  Age_wiki  \\\n",
       "0   691.0                     Braund, Mr. Owen Harris      22.0   \n",
       "1    90.0  Cumings, Mrs. Florence Briggs (née Thayer)      35.0   \n",
       "2   865.0                       Heikkinen, Miss Laina      26.0   \n",
       "3   127.0          Futrelle, Mrs. Lily May (née Peel)      35.0   \n",
       "4   627.0                    Allen, Mr. William Henry      35.0   \n",
       "\n",
       "                             Hometown      Boarded  \\\n",
       "0          Bridgerule, Devon, England  Southampton   \n",
       "1              New York, New York, US    Cherbourg   \n",
       "2                  Jyväskylä, Finland  Southampton   \n",
       "3         Scituate, Massachusetts, US  Southampton   \n",
       "4  Birmingham, West Midlands, England  Southampton   \n",
       "\n",
       "                               Destination  Class  \n",
       "0  Qu'Appelle Valley, Saskatchewan, Canada    3.0  \n",
       "1                   New York, New York, US    1.0  \n",
       "2                            New York City    3.0  \n",
       "3              Scituate, Massachusetts, US    1.0  \n",
       "4                            New York City    3.0  "
      ]
     },
     "execution_count": 11,
     "metadata": {},
     "output_type": "execute_result"
    }
   ],
   "source": [
    "df.info()\n",
    "df.head()"
   ]
  },
  {
   "cell_type": "markdown",
   "id": "ed39cd83",
   "metadata": {},
   "source": [
    "* I don't think the variables like PassengerId, Ticket WikiId and Name_wili will affect the survial probability of a specific person at all. Becasue those values are just like your Identification number or social security number which radnonly give by a system.\n",
    "* For the Hometown and Destination, I also don't think where you are from or where you wanna to will affect much of the survial probability.\n",
    "* Therefor, I choose to drop those features making the subsequent processes more simple and efficient."
   ]
  },
  {
   "cell_type": "code",
   "execution_count": 12,
   "id": "747004ff",
   "metadata": {},
   "outputs": [
    {
     "name": "stdout",
     "output_type": "stream",
     "text": [
      "<class 'pandas.core.frame.DataFrame'>\n",
      "Int64Index: 887 entries, 0 to 890\n",
      "Data columns (total 8 columns):\n",
      " #   Column    Non-Null Count  Dtype  \n",
      "---  ------    --------------  -----  \n",
      " 0   Survived  887 non-null    float64\n",
      " 1   Sex       887 non-null    object \n",
      " 2   SibSp     887 non-null    int64  \n",
      " 3   Parch     887 non-null    int64  \n",
      " 4   Fare      887 non-null    float64\n",
      " 5   Age_wiki  887 non-null    float64\n",
      " 6   Boarded   887 non-null    object \n",
      " 7   Class     887 non-null    float64\n",
      "dtypes: float64(4), int64(2), object(2)\n",
      "memory usage: 62.4+ KB\n"
     ]
    },
    {
     "data": {
      "text/html": [
       "<div>\n",
       "<style scoped>\n",
       "    .dataframe tbody tr th:only-of-type {\n",
       "        vertical-align: middle;\n",
       "    }\n",
       "\n",
       "    .dataframe tbody tr th {\n",
       "        vertical-align: top;\n",
       "    }\n",
       "\n",
       "    .dataframe thead th {\n",
       "        text-align: right;\n",
       "    }\n",
       "</style>\n",
       "<table border=\"1\" class=\"dataframe\">\n",
       "  <thead>\n",
       "    <tr style=\"text-align: right;\">\n",
       "      <th></th>\n",
       "      <th>Survived</th>\n",
       "      <th>Sex</th>\n",
       "      <th>SibSp</th>\n",
       "      <th>Parch</th>\n",
       "      <th>Fare</th>\n",
       "      <th>Age_wiki</th>\n",
       "      <th>Boarded</th>\n",
       "      <th>Class</th>\n",
       "    </tr>\n",
       "  </thead>\n",
       "  <tbody>\n",
       "    <tr>\n",
       "      <th>0</th>\n",
       "      <td>0.0</td>\n",
       "      <td>male</td>\n",
       "      <td>1</td>\n",
       "      <td>0</td>\n",
       "      <td>7.2500</td>\n",
       "      <td>22.0</td>\n",
       "      <td>Southampton</td>\n",
       "      <td>3.0</td>\n",
       "    </tr>\n",
       "    <tr>\n",
       "      <th>1</th>\n",
       "      <td>1.0</td>\n",
       "      <td>female</td>\n",
       "      <td>1</td>\n",
       "      <td>0</td>\n",
       "      <td>71.2833</td>\n",
       "      <td>35.0</td>\n",
       "      <td>Cherbourg</td>\n",
       "      <td>1.0</td>\n",
       "    </tr>\n",
       "    <tr>\n",
       "      <th>2</th>\n",
       "      <td>1.0</td>\n",
       "      <td>female</td>\n",
       "      <td>0</td>\n",
       "      <td>0</td>\n",
       "      <td>7.9250</td>\n",
       "      <td>26.0</td>\n",
       "      <td>Southampton</td>\n",
       "      <td>3.0</td>\n",
       "    </tr>\n",
       "    <tr>\n",
       "      <th>3</th>\n",
       "      <td>1.0</td>\n",
       "      <td>female</td>\n",
       "      <td>1</td>\n",
       "      <td>0</td>\n",
       "      <td>53.1000</td>\n",
       "      <td>35.0</td>\n",
       "      <td>Southampton</td>\n",
       "      <td>1.0</td>\n",
       "    </tr>\n",
       "    <tr>\n",
       "      <th>4</th>\n",
       "      <td>0.0</td>\n",
       "      <td>male</td>\n",
       "      <td>0</td>\n",
       "      <td>0</td>\n",
       "      <td>8.0500</td>\n",
       "      <td>35.0</td>\n",
       "      <td>Southampton</td>\n",
       "      <td>3.0</td>\n",
       "    </tr>\n",
       "  </tbody>\n",
       "</table>\n",
       "</div>"
      ],
      "text/plain": [
       "   Survived     Sex  SibSp  Parch     Fare  Age_wiki      Boarded  Class\n",
       "0       0.0    male      1      0   7.2500      22.0  Southampton    3.0\n",
       "1       1.0  female      1      0  71.2833      35.0    Cherbourg    1.0\n",
       "2       1.0  female      0      0   7.9250      26.0  Southampton    3.0\n",
       "3       1.0  female      1      0  53.1000      35.0  Southampton    1.0\n",
       "4       0.0    male      0      0   8.0500      35.0  Southampton    3.0"
      ]
     },
     "execution_count": 12,
     "metadata": {},
     "output_type": "execute_result"
    }
   ],
   "source": [
    "unhelpful_features = ['PassengerId', 'Ticket', 'WikiId', 'Name_wiki', 'Hometown', 'Destination']\n",
    "\n",
    "df = df.drop(unhelpful_features, axis=1)\n",
    "df.info()\n",
    "df.head()"
   ]
  },
  {
   "cell_type": "code",
   "execution_count": null,
   "id": "43173eb9",
   "metadata": {},
   "outputs": [],
   "source": []
  },
  {
   "cell_type": "markdown",
   "id": "8d4fe6b4",
   "metadata": {},
   "source": [
    "## 4. EDA (Exploratory Data Analysis)\n",
    "##### First of all, let's check out the distribution of all the features"
   ]
  },
  {
   "cell_type": "code",
   "execution_count": 13,
   "id": "fbab6445",
   "metadata": {
    "scrolled": true
   },
   "outputs": [
    {
     "name": "stdout",
     "output_type": "stream",
     "text": [
      "df.shape (887, 8)\n",
      "nCol:8 nGrapShown:18 nGraphRow:3\n"
     ]
    },
    {
     "data": {
      "image/png": "[encoded data removed]",
      "text/plain": [
       "<Figure size 1920x1920 with 8 Axes>"
      ]
     },
     "metadata": {},
     "output_type": "display_data"
    }
   ],
   "source": [
    "def plotPerColumnDistribution(df, nGraphShown, nGraphPerRow):\n",
    "    nunique = df.nunique()\n",
    "    #df = df[[col for col in df if nunique[col] > 1 and nunique[col] < 50]] # For displaying purposes, pick columns that have between 1 and 50 unique values\n",
    "    nRow, nCol = df.shape\n",
    "    print(\"df.shape\", df.shape)\n",
    "    columnNames = list(df)\n",
    "    nGraphRow = round((nCol + nGraphPerRow - 1) / nGraphPerRow)\n",
    "    print(\"nCol:{} nGrapShown:{} nGraphRow:{}\".format(nCol, nGraphShown, nGraphRow))\n",
    "    plt.figure(num = None, figsize = (6 * nGraphPerRow, 8 * nGraphRow), dpi = 80, facecolor = 'w', edgecolor = 'k')\n",
    "    for i in range(min(nCol, nGraphShown)):\n",
    "        plt.subplot(nGraphRow, nGraphPerRow, i + 1)\n",
    "        columnDf = df.iloc[:, i]\n",
    "        if (not np.issubdtype(type(columnDf.iloc[0]), np.number)):\n",
    "            valueCounts = columnDf.value_counts()\n",
    "            valueCounts.plot.bar()\n",
    "        else:\n",
    "            columnDf.hist()\n",
    "        plt.ylabel('counts')\n",
    "        plt.xticks(rotation = 90)\n",
    "        plt.title(f'{columnNames[i]} (column {i})')\n",
    "    plt.tight_layout(pad = 1.0, w_pad = 1.0, h_pad = 1.0)\n",
    "    plt.show()\n",
    "    \n",
    "plotPerColumnDistribution(df, 18, 4)"
   ]
  },
  {
   "cell_type": "markdown",
   "id": "4db1fceb",
   "metadata": {},
   "source": [
    "#### From the observation from the graphics above:\n",
    "* The distributions of the \"Survived\" and \"Sex\" are very similar. \"Sex\" could be an improtant factor to determine if someone can survied.\n",
    "* The \"SibSp\", the \"Parch\" and the\"Fare\" also have similar distribution. There could be some relationship among them.\n",
    "* The distribution of age is like a normal distribution except the propotion of those age below 10 is bit higher. Maybe poeple choose to take their kids back to home or something.\n",
    "* For the distribution of class, numbers of fist class and second class are almost equal. The number of 3rd class shares 50% of the population."
   ]
  },
  {
   "cell_type": "code",
   "execution_count": 14,
   "id": "af9847c0",
   "metadata": {},
   "outputs": [
    {
     "data": {
      "text/plain": [
       "'dfo = pd.read_csv(\"full.csv\")\\ndfo[dfo[\\'Boarded\\']==\\'Belfast\\']\\ndfo[dfo[\\'Fare\\']==0]'"
      ]
     },
     "execution_count": 14,
     "metadata": {},
     "output_type": "execute_result"
    }
   ],
   "source": [
    "\n",
    "\"\"\"dfo = pd.read_csv(\"full.csv\")\n",
    "dfo[dfo['Boarded']=='Belfast']\n",
    "dfo[dfo['Fare']==0]\"\"\""
   ]
  },
  {
   "cell_type": "markdown",
   "id": "01cc42da",
   "metadata": {},
   "source": [
    "### 4.1 Exploration of age"
   ]
  },
  {
   "cell_type": "code",
   "execution_count": 15,
   "id": "8a317cfe",
   "metadata": {},
   "outputs": [
    {
     "data": {
      "text/plain": [
       "<seaborn.axisgrid.FacetGrid at 0x1a376196f50>"
      ]
     },
     "execution_count": 15,
     "metadata": {},
     "output_type": "execute_result"
    },
    {
     "data": {
      "image/png": "[encoded data removed]",
      "text/plain": [
       "<Figure size 598x500 with 1 Axes>"
      ]
     },
     "metadata": {},
     "output_type": "display_data"
    }
   ],
   "source": [
    "sns.catplot(x =\"Survived\", hue =\"Sex\", \n",
    "kind =\"count\", data = df)"
   ]
  },
  {
   "cell_type": "markdown",
   "id": "9f8a430e",
   "metadata": {},
   "source": [
    "* Most of male didnot survive and most of femal survived. Gender greatly affects whether you can survive.\n",
    "* Because the number of male survived is almost equal to the number of the female not survive, that's why the distributions of \"Survived\" and \"Sex\" are similar."
   ]
  },
  {
   "cell_type": "markdown",
   "id": "51d6e94f",
   "metadata": {},
   "source": [
    "### 4.2 Exploration of SibSp, Parch and Fare"
   ]
  },
  {
   "cell_type": "markdown",
   "id": "4fe5f21b",
   "metadata": {},
   "source": [
    "* As the \"SibSp\" and \"Parch\" are related to relatives and family. To simplify this analysis, let create a new feature named family\n",
    "* family, which mean size of the pasenger's family, equal to \"SibSp + Parch + himself\""
   ]
  },
  {
   "cell_type": "code",
   "execution_count": 16,
   "id": "d055aab5",
   "metadata": {},
   "outputs": [],
   "source": [
    "df['Family'] = df['SibSp'] + df['Parch'] +1\n",
    "df = df.drop(['SibSp', 'Parch'], axis=1)\n"
   ]
  },
  {
   "cell_type": "code",
   "execution_count": 17,
   "id": "66f81c69",
   "metadata": {
    "scrolled": true
   },
   "outputs": [
    {
     "data": {
      "text/html": [
       "<div>\n",
       "<style scoped>\n",
       "    .dataframe tbody tr th:only-of-type {\n",
       "        vertical-align: middle;\n",
       "    }\n",
       "\n",
       "    .dataframe tbody tr th {\n",
       "        vertical-align: top;\n",
       "    }\n",
       "\n",
       "    .dataframe thead th {\n",
       "        text-align: right;\n",
       "    }\n",
       "</style>\n",
       "<table border=\"1\" class=\"dataframe\">\n",
       "  <thead>\n",
       "    <tr style=\"text-align: right;\">\n",
       "      <th></th>\n",
       "      <th>Survived</th>\n",
       "      <th>Sex</th>\n",
       "      <th>Fare</th>\n",
       "      <th>Age_wiki</th>\n",
       "      <th>Boarded</th>\n",
       "      <th>Class</th>\n",
       "      <th>Family</th>\n",
       "    </tr>\n",
       "  </thead>\n",
       "  <tbody>\n",
       "    <tr>\n",
       "      <th>179</th>\n",
       "      <td>0.0</td>\n",
       "      <td>male</td>\n",
       "      <td>0.0</td>\n",
       "      <td>36.0</td>\n",
       "      <td>Southampton</td>\n",
       "      <td>3.0</td>\n",
       "      <td>1</td>\n",
       "    </tr>\n",
       "    <tr>\n",
       "      <th>263</th>\n",
       "      <td>0.0</td>\n",
       "      <td>male</td>\n",
       "      <td>0.0</td>\n",
       "      <td>45.0</td>\n",
       "      <td>Southampton</td>\n",
       "      <td>1.0</td>\n",
       "      <td>1</td>\n",
       "    </tr>\n",
       "    <tr>\n",
       "      <th>271</th>\n",
       "      <td>1.0</td>\n",
       "      <td>male</td>\n",
       "      <td>0.0</td>\n",
       "      <td>25.0</td>\n",
       "      <td>Southampton</td>\n",
       "      <td>3.0</td>\n",
       "      <td>1</td>\n",
       "    </tr>\n",
       "    <tr>\n",
       "      <th>277</th>\n",
       "      <td>0.0</td>\n",
       "      <td>male</td>\n",
       "      <td>0.0</td>\n",
       "      <td>18.0</td>\n",
       "      <td>Belfast</td>\n",
       "      <td>2.0</td>\n",
       "      <td>1</td>\n",
       "    </tr>\n",
       "    <tr>\n",
       "      <th>302</th>\n",
       "      <td>0.0</td>\n",
       "      <td>male</td>\n",
       "      <td>0.0</td>\n",
       "      <td>19.0</td>\n",
       "      <td>Southampton</td>\n",
       "      <td>3.0</td>\n",
       "      <td>1</td>\n",
       "    </tr>\n",
       "    <tr>\n",
       "      <th>413</th>\n",
       "      <td>0.0</td>\n",
       "      <td>male</td>\n",
       "      <td>0.0</td>\n",
       "      <td>21.0</td>\n",
       "      <td>Belfast</td>\n",
       "      <td>2.0</td>\n",
       "      <td>1</td>\n",
       "    </tr>\n",
       "    <tr>\n",
       "      <th>466</th>\n",
       "      <td>0.0</td>\n",
       "      <td>male</td>\n",
       "      <td>0.0</td>\n",
       "      <td>21.0</td>\n",
       "      <td>Belfast</td>\n",
       "      <td>2.0</td>\n",
       "      <td>1</td>\n",
       "    </tr>\n",
       "    <tr>\n",
       "      <th>481</th>\n",
       "      <td>0.0</td>\n",
       "      <td>male</td>\n",
       "      <td>0.0</td>\n",
       "      <td>37.0</td>\n",
       "      <td>Belfast</td>\n",
       "      <td>2.0</td>\n",
       "      <td>1</td>\n",
       "    </tr>\n",
       "    <tr>\n",
       "      <th>597</th>\n",
       "      <td>0.0</td>\n",
       "      <td>male</td>\n",
       "      <td>0.0</td>\n",
       "      <td>49.0</td>\n",
       "      <td>Southampton</td>\n",
       "      <td>3.0</td>\n",
       "      <td>1</td>\n",
       "    </tr>\n",
       "    <tr>\n",
       "      <th>633</th>\n",
       "      <td>0.0</td>\n",
       "      <td>male</td>\n",
       "      <td>0.0</td>\n",
       "      <td>29.0</td>\n",
       "      <td>Belfast</td>\n",
       "      <td>1.0</td>\n",
       "      <td>1</td>\n",
       "    </tr>\n",
       "    <tr>\n",
       "      <th>674</th>\n",
       "      <td>0.0</td>\n",
       "      <td>male</td>\n",
       "      <td>0.0</td>\n",
       "      <td>15.0</td>\n",
       "      <td>Belfast</td>\n",
       "      <td>2.0</td>\n",
       "      <td>1</td>\n",
       "    </tr>\n",
       "    <tr>\n",
       "      <th>732</th>\n",
       "      <td>0.0</td>\n",
       "      <td>male</td>\n",
       "      <td>0.0</td>\n",
       "      <td>39.0</td>\n",
       "      <td>Belfast</td>\n",
       "      <td>2.0</td>\n",
       "      <td>1</td>\n",
       "    </tr>\n",
       "    <tr>\n",
       "      <th>806</th>\n",
       "      <td>0.0</td>\n",
       "      <td>male</td>\n",
       "      <td>0.0</td>\n",
       "      <td>39.0</td>\n",
       "      <td>Belfast</td>\n",
       "      <td>1.0</td>\n",
       "      <td>1</td>\n",
       "    </tr>\n",
       "    <tr>\n",
       "      <th>815</th>\n",
       "      <td>0.0</td>\n",
       "      <td>male</td>\n",
       "      <td>0.0</td>\n",
       "      <td>39.0</td>\n",
       "      <td>Southampton</td>\n",
       "      <td>1.0</td>\n",
       "      <td>1</td>\n",
       "    </tr>\n",
       "    <tr>\n",
       "      <th>822</th>\n",
       "      <td>0.0</td>\n",
       "      <td>male</td>\n",
       "      <td>0.0</td>\n",
       "      <td>38.0</td>\n",
       "      <td>Southampton</td>\n",
       "      <td>1.0</td>\n",
       "      <td>1</td>\n",
       "    </tr>\n",
       "  </tbody>\n",
       "</table>\n",
       "</div>"
      ],
      "text/plain": [
       "     Survived   Sex  Fare  Age_wiki      Boarded  Class  Family\n",
       "179       0.0  male   0.0      36.0  Southampton    3.0       1\n",
       "263       0.0  male   0.0      45.0  Southampton    1.0       1\n",
       "271       1.0  male   0.0      25.0  Southampton    3.0       1\n",
       "277       0.0  male   0.0      18.0      Belfast    2.0       1\n",
       "302       0.0  male   0.0      19.0  Southampton    3.0       1\n",
       "413       0.0  male   0.0      21.0      Belfast    2.0       1\n",
       "466       0.0  male   0.0      21.0      Belfast    2.0       1\n",
       "481       0.0  male   0.0      37.0      Belfast    2.0       1\n",
       "597       0.0  male   0.0      49.0  Southampton    3.0       1\n",
       "633       0.0  male   0.0      29.0      Belfast    1.0       1\n",
       "674       0.0  male   0.0      15.0      Belfast    2.0       1\n",
       "732       0.0  male   0.0      39.0      Belfast    2.0       1\n",
       "806       0.0  male   0.0      39.0      Belfast    1.0       1\n",
       "815       0.0  male   0.0      39.0  Southampton    1.0       1\n",
       "822       0.0  male   0.0      38.0  Southampton    1.0       1"
      ]
     },
     "execution_count": 17,
     "metadata": {},
     "output_type": "execute_result"
    }
   ],
   "source": [
    "df[df['Fare']==0]\n"
   ]
  },
  {
   "cell_type": "code",
   "execution_count": 18,
   "id": "27b5df61",
   "metadata": {},
   "outputs": [
    {
     "name": "stdout",
     "output_type": "stream",
     "text": [
      "df.shape (887, 2)\n",
      "nCol:2 nGrapShown:2 nGraphRow:2\n"
     ]
    },
    {
     "data": {
      "image/png": "[encoded data removed]",
      "text/plain": [
       "<Figure size 960x1280 with 2 Axes>"
      ]
     },
     "metadata": {},
     "output_type": "display_data"
    }
   ],
   "source": [
    "plotPerColumnDistribution(df[['Family', 'Fare']], 2, 2)"
   ]
  },
  {
   "cell_type": "code",
   "execution_count": 35,
   "id": "e3fa6554",
   "metadata": {
    "scrolled": true
   },
   "outputs": [
    {
     "data": {
      "text/plain": [
       "<Axes: xlabel='Family'>"
      ]
     },
     "execution_count": 35,
     "metadata": {},
     "output_type": "execute_result"
    },
    {
     "data": {
      "image/png": "[encoded data removed]",
      "text/plain": [
       "<Figure size 640x480 with 1 Axes>"
      ]
     },
     "metadata": {},
     "output_type": "display_data"
    }
   ],
   "source": [
    "\"\"\"sns.catplot(x =\"Family\", y =\"Fare\", hue =\"Survived\", kind='count',\n",
    "data = df)\"\"\"\n",
    "#df[df['Fare']>400]\n",
    "sns.boxplot(x=df['Family'])\n"
   ]
  },
  {
   "cell_type": "code",
   "execution_count": 36,
   "id": "da317b93",
   "metadata": {},
   "outputs": [
    {
     "data": {
      "text/plain": [
       "<bound method DataFrame.count of      Survived     Sex     Fare  Age_wiki      Boarded  Class  Family\n",
       "7         0.0    male  21.0750       2.0  Southampton    3.0       5\n",
       "13        0.0    male  31.2750      39.0  Southampton    3.0       7\n",
       "16        0.0    male  29.1250       2.0   Queenstown    3.0       6\n",
       "24        0.0  female  21.0750       8.0  Southampton    3.0       5\n",
       "25        1.0  female  31.3875      38.0  Southampton    3.0       7\n",
       "..        ...     ...      ...       ...          ...    ...     ...\n",
       "850       0.0    male  31.2750       4.0  Southampton    3.0       7\n",
       "858       1.0  female  19.2583      24.0    Cherbourg    3.0       4\n",
       "863       0.0  female  69.5500      14.0  Southampton    3.0      11\n",
       "885       0.0  female  29.1250      39.0   Queenstown    3.0       6\n",
       "888       0.0  female  23.4500       7.0  Southampton    3.0       4\n",
       "\n",
       "[91 rows x 7 columns]>"
      ]
     },
     "execution_count": 36,
     "metadata": {},
     "output_type": "execute_result"
    }
   ],
   "source": [
    "df[df['Family']>3].count"
   ]
  },
  {
   "cell_type": "code",
   "execution_count": 27,
   "id": "a1007de3",
   "metadata": {},
   "outputs": [
    {
     "data": {
      "text/plain": [
       "<Axes: xlabel='Fare'>"
      ]
     },
     "execution_count": 27,
     "metadata": {},
     "output_type": "execute_result"
    },
    {
     "data": {
      "image/png": "[encoded data removed]",
      "text/plain": [
       "<Figure size 640x480 with 1 Axes>"
      ]
     },
     "metadata": {},
     "output_type": "display_data"
    }
   ],
   "source": [
    "sns.boxplot(x=df['Fare'])"
   ]
  },
  {
   "cell_type": "code",
   "execution_count": 37,
   "id": "47f94c00",
   "metadata": {},
   "outputs": [
    {
     "data": {
      "text/plain": [
       "<bound method DataFrame.count of      Survived     Sex      Fare  Age_wiki      Boarded  Class  Family\n",
       "27        0.0    male  263.0000      19.0  Southampton    1.0       6\n",
       "31        1.0  female  146.5208      45.0    Cherbourg    1.0       2\n",
       "34        0.0    male   82.1708      28.0    Cherbourg    1.0       2\n",
       "62        0.0    male   83.4750      45.0  Southampton    1.0       2\n",
       "88        1.0  female  263.0000      23.0  Southampton    1.0       6\n",
       "..        ...     ...       ...       ...          ...    ...     ...\n",
       "820       1.0  female   93.5000      52.0  Southampton    1.0       3\n",
       "835       1.0  female   83.1583      39.0    Cherbourg    1.0       3\n",
       "849       1.0  female   89.1042      40.0    Cherbourg    1.0       2\n",
       "856       1.0  female  164.8667      45.0  Southampton    1.0       3\n",
       "879       1.0  female   83.1583      56.0    Cherbourg    1.0       2\n",
       "\n",
       "[73 rows x 7 columns]>"
      ]
     },
     "execution_count": 37,
     "metadata": {},
     "output_type": "execute_result"
    }
   ],
   "source": [
    "df[df['Fare']>80].count\n",
    "\n",
    "#df[df['Family']==1]"
   ]
  },
  {
   "cell_type": "code",
   "execution_count": 38,
   "id": "bf5e9f82",
   "metadata": {},
   "outputs": [
    {
     "data": {
      "image/png": "[encoded data removed]",
      "text/plain": [
       "<Figure size 1600x800 with 1 Axes>"
      ]
     },
     "metadata": {},
     "output_type": "display_data"
    }
   ],
   "source": [
    "fig, ax = plt.subplots(figsize=(16,8))\n",
    "ax.scatter(df['Family'], df['Fare'])\n",
    "ax.set_xlabel('Proportion of non-retail business acres per town')\n",
    "ax.set_ylabel('Full-value property-tax rate per $10,000')\n",
    "plt.show()"
   ]
  },
  {
   "cell_type": "code",
   "execution_count": 34,
   "id": "eca6ee92",
   "metadata": {},
   "outputs": [
    {
     "data": {
      "text/html": [
       "<div>\n",
       "<style scoped>\n",
       "    .dataframe tbody tr th:only-of-type {\n",
       "        vertical-align: middle;\n",
       "    }\n",
       "\n",
       "    .dataframe tbody tr th {\n",
       "        vertical-align: top;\n",
       "    }\n",
       "\n",
       "    .dataframe thead th {\n",
       "        text-align: right;\n",
       "    }\n",
       "</style>\n",
       "<table border=\"1\" class=\"dataframe\">\n",
       "  <thead>\n",
       "    <tr style=\"text-align: right;\">\n",
       "      <th></th>\n",
       "      <th>Survived</th>\n",
       "      <th>Sex</th>\n",
       "      <th>Fare</th>\n",
       "      <th>Age_wiki</th>\n",
       "      <th>Boarded</th>\n",
       "      <th>Class</th>\n",
       "      <th>Family</th>\n",
       "    </tr>\n",
       "  </thead>\n",
       "  <tbody>\n",
       "    <tr>\n",
       "      <th>27</th>\n",
       "      <td>0.0</td>\n",
       "      <td>male</td>\n",
       "      <td>263.0000</td>\n",
       "      <td>19.0</td>\n",
       "      <td>Southampton</td>\n",
       "      <td>1.0</td>\n",
       "      <td>6</td>\n",
       "    </tr>\n",
       "    <tr>\n",
       "      <th>31</th>\n",
       "      <td>1.0</td>\n",
       "      <td>female</td>\n",
       "      <td>146.5208</td>\n",
       "      <td>45.0</td>\n",
       "      <td>Cherbourg</td>\n",
       "      <td>1.0</td>\n",
       "      <td>2</td>\n",
       "    </tr>\n",
       "    <tr>\n",
       "      <th>34</th>\n",
       "      <td>0.0</td>\n",
       "      <td>male</td>\n",
       "      <td>82.1708</td>\n",
       "      <td>28.0</td>\n",
       "      <td>Cherbourg</td>\n",
       "      <td>1.0</td>\n",
       "      <td>2</td>\n",
       "    </tr>\n",
       "    <tr>\n",
       "      <th>62</th>\n",
       "      <td>0.0</td>\n",
       "      <td>male</td>\n",
       "      <td>83.4750</td>\n",
       "      <td>45.0</td>\n",
       "      <td>Southampton</td>\n",
       "      <td>1.0</td>\n",
       "      <td>2</td>\n",
       "    </tr>\n",
       "    <tr>\n",
       "      <th>88</th>\n",
       "      <td>1.0</td>\n",
       "      <td>female</td>\n",
       "      <td>263.0000</td>\n",
       "      <td>23.0</td>\n",
       "      <td>Southampton</td>\n",
       "      <td>1.0</td>\n",
       "      <td>6</td>\n",
       "    </tr>\n",
       "    <tr>\n",
       "      <th>...</th>\n",
       "      <td>...</td>\n",
       "      <td>...</td>\n",
       "      <td>...</td>\n",
       "      <td>...</td>\n",
       "      <td>...</td>\n",
       "      <td>...</td>\n",
       "      <td>...</td>\n",
       "    </tr>\n",
       "    <tr>\n",
       "      <th>820</th>\n",
       "      <td>1.0</td>\n",
       "      <td>female</td>\n",
       "      <td>93.5000</td>\n",
       "      <td>52.0</td>\n",
       "      <td>Southampton</td>\n",
       "      <td>1.0</td>\n",
       "      <td>3</td>\n",
       "    </tr>\n",
       "    <tr>\n",
       "      <th>835</th>\n",
       "      <td>1.0</td>\n",
       "      <td>female</td>\n",
       "      <td>83.1583</td>\n",
       "      <td>39.0</td>\n",
       "      <td>Cherbourg</td>\n",
       "      <td>1.0</td>\n",
       "      <td>3</td>\n",
       "    </tr>\n",
       "    <tr>\n",
       "      <th>849</th>\n",
       "      <td>1.0</td>\n",
       "      <td>female</td>\n",
       "      <td>89.1042</td>\n",
       "      <td>40.0</td>\n",
       "      <td>Cherbourg</td>\n",
       "      <td>1.0</td>\n",
       "      <td>2</td>\n",
       "    </tr>\n",
       "    <tr>\n",
       "      <th>856</th>\n",
       "      <td>1.0</td>\n",
       "      <td>female</td>\n",
       "      <td>164.8667</td>\n",
       "      <td>45.0</td>\n",
       "      <td>Southampton</td>\n",
       "      <td>1.0</td>\n",
       "      <td>3</td>\n",
       "    </tr>\n",
       "    <tr>\n",
       "      <th>879</th>\n",
       "      <td>1.0</td>\n",
       "      <td>female</td>\n",
       "      <td>83.1583</td>\n",
       "      <td>56.0</td>\n",
       "      <td>Cherbourg</td>\n",
       "      <td>1.0</td>\n",
       "      <td>2</td>\n",
       "    </tr>\n",
       "  </tbody>\n",
       "</table>\n",
       "<p>73 rows × 7 columns</p>\n",
       "</div>"
      ],
      "text/plain": [
       "     Survived     Sex      Fare  Age_wiki      Boarded  Class  Family\n",
       "27        0.0    male  263.0000      19.0  Southampton    1.0       6\n",
       "31        1.0  female  146.5208      45.0    Cherbourg    1.0       2\n",
       "34        0.0    male   82.1708      28.0    Cherbourg    1.0       2\n",
       "62        0.0    male   83.4750      45.0  Southampton    1.0       2\n",
       "88        1.0  female  263.0000      23.0  Southampton    1.0       6\n",
       "..        ...     ...       ...       ...          ...    ...     ...\n",
       "820       1.0  female   93.5000      52.0  Southampton    1.0       3\n",
       "835       1.0  female   83.1583      39.0    Cherbourg    1.0       3\n",
       "849       1.0  female   89.1042      40.0    Cherbourg    1.0       2\n",
       "856       1.0  female  164.8667      45.0  Southampton    1.0       3\n",
       "879       1.0  female   83.1583      56.0    Cherbourg    1.0       2\n",
       "\n",
       "[73 rows x 7 columns]"
      ]
     },
     "execution_count": 34,
     "metadata": {},
     "output_type": "execute_result"
    }
   ],
   "source": [
    "df[df['Fare']>80]"
   ]
  },
  {
   "cell_type": "code",
   "execution_count": null,
   "id": "577ffd92",
   "metadata": {},
   "outputs": [],
   "source": [
    "sns.heatmap(df.corr(), annot=True, fmt=\".1f\")"
   ]
  },
  {
   "cell_type": "code",
   "execution_count": null,
   "id": "b46113f4",
   "metadata": {},
   "outputs": [],
   "source": [
    "for column_name, colume_value in df.iteritems():\n",
    "    print(\"column:{} unique:{}\".format(column_name, colume_value.unique()))"
   ]
  },
  {
   "cell_type": "code",
   "execution_count": null,
   "id": "c4c0ffac",
   "metadata": {},
   "outputs": [],
   "source": [
    "\n"
   ]
  },
  {
   "cell_type": "markdown",
   "id": "88f3ca63",
   "metadata": {},
   "source": [
    "### 4.1 Exploration of Sex"
   ]
  },
  {
   "cell_type": "code",
   "execution_count": null,
   "id": "b2177456",
   "metadata": {
    "scrolled": true
   },
   "outputs": [],
   "source": [
    "sns.barplot(x='Sex', y='Survived', data=df)\n",
    "plt.show()"
   ]
  },
  {
   "cell_type": "code",
   "execution_count": null,
   "id": "34c8627f",
   "metadata": {},
   "outputs": [],
   "source": [
    "plt.plot(df['Sex_female'].count())\n",
    "#df.head()\n",
    "df['Sex_female']"
   ]
  },
  {
   "cell_type": "markdown",
   "id": "4d9eb81b",
   "metadata": {},
   "source": [
    "* Use the sns.barplot api to show the survived rate on male and female. \n",
    "* As we can see female has very high chance to survive ant that means our expectation."
   ]
  },
  {
   "cell_type": "markdown",
   "id": "dd87156d",
   "metadata": {},
   "source": [
    "### 4.2 Exploration of SibSp"
   ]
  },
  {
   "cell_type": "code",
   "execution_count": null,
   "id": "8295d626",
   "metadata": {
    "scrolled": true
   },
   "outputs": [],
   "source": [
    "sns.barplot(x='SibSp', y='Survived', data=df)\n",
    "plt.show()"
   ]
  },
  {
   "cell_type": "markdown",
   "id": "62f7f6a5",
   "metadata": {},
   "source": []
  },
  {
   "cell_type": "markdown",
   "id": "f2493f5b",
   "metadata": {},
   "source": [
    "### 4.3 Exploration of Parch"
   ]
  },
  {
   "cell_type": "code",
   "execution_count": null,
   "id": "127b8b77",
   "metadata": {
    "scrolled": true
   },
   "outputs": [],
   "source": [
    "sns.barplot(x='Parch', y='Survived', data=df)\n",
    "plt.show()"
   ]
  },
  {
   "cell_type": "markdown",
   "id": "2e885dca",
   "metadata": {},
   "source": []
  },
  {
   "cell_type": "markdown",
   "id": "b32a0df6",
   "metadata": {},
   "source": [
    "### 4.4 Exploration of Boarded"
   ]
  },
  {
   "cell_type": "code",
   "execution_count": null,
   "id": "b7d595bd",
   "metadata": {
    "scrolled": true
   },
   "outputs": [],
   "source": [
    "sns.barplot(x='Boarded', y='Survived', data=df)\n",
    "plt.show()"
   ]
  },
  {
   "cell_type": "markdown",
   "id": "82f64b77",
   "metadata": {},
   "source": [
    "### 4.5 Exploration of Class"
   ]
  },
  {
   "cell_type": "code",
   "execution_count": null,
   "id": "8220592a",
   "metadata": {
    "scrolled": true
   },
   "outputs": [],
   "source": [
    "sns.barplot(x='Class', y='Survived', data=df)\n",
    "plt.show()"
   ]
  },
  {
   "cell_type": "markdown",
   "id": "250f0110",
   "metadata": {},
   "source": [
    "Use the sns.barplot api to show the survived rate on male and female. As we can see female has very high chance to survive ant that means our expectation."
   ]
  },
  {
   "cell_type": "markdown",
   "id": "a3a7d5a2",
   "metadata": {},
   "source": [
    "### 4.6 Exploration of Fare\n",
    "\n"
   ]
  },
  {
   "cell_type": "code",
   "execution_count": null,
   "id": "859bfbf4",
   "metadata": {},
   "outputs": [],
   "source": [
    "plt.figure(figsize=(15,8))\n",
    "ax = sns.kdeplot(df[\"Fare\"][df.Survived == 1], color=\"darkturquoise\", shade=True)\n",
    "sns.kdeplot(df[\"Fare\"][df.Survived == 0], color=\"lightcoral\", shade=True)\n",
    "sns.kdeplot(df[\"Fare\"], color=\"lightblue\",shade=True)\n",
    "plt.legend(['Survived', 'Died', 'total'])\n",
    "plt.title('Density Plot of Fare for Surviving Population and Deceased Population')\n",
    "ax.set(xlabel='Fare')\n",
    "plt.xlim(-20,200)\n",
    "plt.show()"
   ]
  },
  {
   "cell_type": "markdown",
   "id": "1208f9f1",
   "metadata": {},
   "source": [
    "### 4.7 Exploration of Age\n",
    "\n"
   ]
  },
  {
   "cell_type": "code",
   "execution_count": null,
   "id": "7f7e022f",
   "metadata": {
    "scrolled": true
   },
   "outputs": [],
   "source": [
    "plt.figure(figsize=(15,8))\n",
    "ax = sns.kdeplot(df[\"Age_wiki\"][df.Survived == 1], color=\"darkturquoise\", shade=True)\n",
    "sns.kdeplot(df[\"Age_wiki\"][df.Survived == 0], color=\"lightcoral\", shade=True)\n",
    "sns.kdeplot(df[\"Age_wiki\"], color=\"lightblue\",shade=True)\n",
    "plt.legend(['Survived', 'Died', 'total'])\n",
    "\n",
    "plt.title('Density Plot of Age for Surviving Population and Deceased Population')\n",
    "ax.set(xlabel='Age')\n",
    "plt.xlim(-20,100)\n",
    "plt.show()"
   ]
  },
  {
   "cell_type": "code",
   "execution_count": null,
   "id": "111cb9e7",
   "metadata": {},
   "outputs": [],
   "source": [
    "df=pd.get_dummies(df, columns=[\"Sex\",\"Boarded\"])\n",
    "df=df.drop(['Sex_male', 'Boarded_Belfast'], axis=1)\n",
    "df.info()"
   ]
  },
  {
   "cell_type": "code",
   "execution_count": null,
   "id": "f2ddf9c4",
   "metadata": {},
   "outputs": [],
   "source": [
    "\n",
    "sns.heatmap(df.corr(), annot=True, fmt=\".1f\")\n",
    "sns.pairplot(df, diag_kind='kde')"
   ]
  },
  {
   "cell_type": "markdown",
   "id": "e56345dc",
   "metadata": {},
   "source": [
    "As the fare and class are correlated, I choose to drop class and remain fare."
   ]
  },
  {
   "cell_type": "code",
   "execution_count": null,
   "id": "9ee64fe2",
   "metadata": {},
   "outputs": [],
   "source": [
    "df=df.drop(['Boarded_Cherbourg'], axis=1)\n",
    "sns.heatmap(df.corr(), annot=True, fmt=\".1f\")"
   ]
  },
  {
   "cell_type": "code",
   "execution_count": null,
   "id": "81367a69",
   "metadata": {},
   "outputs": [],
   "source": [
    "for column_name, colume_value in df.iteritems():\n",
    "    print(\"column:{} unique:{}\".format(column_name, colume_value.unique()))"
   ]
  },
  {
   "cell_type": "markdown",
   "id": "ef6d5a86",
   "metadata": {},
   "source": [
    "Note the Dtaype of Sex is object, we need to conver it to number before feed them to trainning model."
   ]
  },
  {
   "cell_type": "code",
   "execution_count": null,
   "id": "23d9b3f8",
   "metadata": {},
   "outputs": [],
   "source": [
    "\"\"\"df['Sex'].replace({'male':1, 'female':0}, inplace=True)\n",
    "df.info()\n",
    "df.head()\"\"\""
   ]
  },
  {
   "cell_type": "markdown",
   "id": "bcab870e",
   "metadata": {},
   "source": [
    "## 5. Models and analysis"
   ]
  },
  {
   "cell_type": "markdown",
   "id": "3ae76449",
   "metadata": {},
   "source": [
    "#### 5.1 Splite the dataset to train set and test set"
   ]
  },
  {
   "cell_type": "code",
   "execution_count": null,
   "id": "3ffcc5ea",
   "metadata": {
    "scrolled": true
   },
   "outputs": [],
   "source": [
    "\n",
    "train_data, test_data = train_test_split(\n",
    "  df, random_state=0, test_size=0.2)\n",
    "train_data.info()\n",
    "\n",
    "X_train = train_data.drop(['Survived'], axis=1)\n",
    "y_train = train_data['Survived']\n",
    "X_test = test_data.drop(['Survived'], axis=1)\n",
    "y_test = test_data['Survived']\n"
   ]
  },
  {
   "cell_type": "markdown",
   "id": "3652f4d8",
   "metadata": {},
   "source": [
    "### 5.2 Random Forest model"
   ]
  },
  {
   "cell_type": "code",
   "execution_count": null,
   "id": "3dbc81e1",
   "metadata": {},
   "outputs": [],
   "source": [
    "from sklearn.ensemble import RandomForestClassifier\n",
    "clf = RandomForestClassifier()\n",
    "clf.fit(X_train, y_train)\n",
    "y_pred = clf.predict(X_test)\n",
    "print(f\"Test set Accuracy: {clf.score(X_test, y_test)}\")\n",
    "print(f\"Train set Accuracy: {clf.score(X_train, y_train)}\")"
   ]
  },
  {
   "cell_type": "code",
   "execution_count": null,
   "id": "6768c2cf",
   "metadata": {},
   "outputs": [],
   "source": [
    "from scipy.stats import randint\n",
    "from sklearn.model_selection import RandomizedSearchCV\n",
    "param_dist = {'n_estimators': randint(50,500),\n",
    "              'max_depth': randint(1,20)}\n",
    "\n",
    "# Create a random forest classifier\n",
    "rf = RandomForestClassifier()\n",
    "\n",
    "# Use random search to find the best hyperparameters\n",
    "rand_search = RandomizedSearchCV(rf, \n",
    "                                 param_distributions = param_dist, \n",
    "                                 n_iter=5, \n",
    "                                 cv=5)\n",
    "\n",
    "# Fit the random search object to the data\n",
    "rand_search.fit(X_train, y_train)\n",
    "\n",
    "# Create a variable for the best model\n",
    "best_rf = rand_search.best_estimator_\n",
    "\n",
    "# Print the best hyperparameters\n",
    "print('Best hyperparameters:',  rand_search.best_params_)"
   ]
  },
  {
   "cell_type": "code",
   "execution_count": null,
   "id": "7996b559",
   "metadata": {},
   "outputs": [],
   "source": [
    "\n",
    "# Generate predictions with the best model\n",
    "y_pred = best_rf.predict(X_test)\n",
    "\n",
    "# Create the confusion matrix\n",
    "cm = confusion_matrix(y_test, y_pred)\n",
    "\n",
    "ConfusionMatrixDisplay(confusion_matrix=cm).plot();"
   ]
  },
  {
   "cell_type": "code",
   "execution_count": null,
   "id": "ba99192f",
   "metadata": {},
   "outputs": [],
   "source": []
  },
  {
   "cell_type": "code",
   "execution_count": null,
   "id": "236d0f44",
   "metadata": {},
   "outputs": [],
   "source": [
    "accuracy = accuracy_score(y_test, y_pred)\n",
    "\n",
    "print(\"Test set Accuracy:\", accuracy)\n",
    "\n",
    "y_pred = best_rf.predict(X_train)\n",
    "accuracy = accuracy_score(y_train, y_pred)\n",
    "\n",
    "print(\"Train set Accuracy:\", accuracy)"
   ]
  },
  {
   "cell_type": "code",
   "execution_count": null,
   "id": "2cc60338",
   "metadata": {},
   "outputs": [],
   "source": [
    "# Create a series containing feature importances from the model and feature names from the training data\n",
    "feature_importances = pd.Series(best_rf.feature_importances_, index=X_train.columns).sort_values(ascending=False)\n",
    "\n",
    "# Plot a simple bar chart\n",
    "feature_importances.plot.bar();"
   ]
  },
  {
   "cell_type": "code",
   "execution_count": null,
   "id": "95f75c29",
   "metadata": {},
   "outputs": [],
   "source": [
    "least_important_features = ['Parch', 'Boarded_Queenstown', 'Boarded_Southampton', 'SibSp']\n",
    "X_train_3 = X_train.drop(least_important_features, axis=1)\n",
    "X_test_3 = X_test.drop(least_important_features, axis=1)"
   ]
  },
  {
   "cell_type": "code",
   "execution_count": null,
   "id": "38807934",
   "metadata": {},
   "outputs": [],
   "source": [
    "# Create a random forest classifier\n",
    "rf = RandomForestClassifier()\n",
    "\n",
    "# Use random search to find the best hyperparameters\n",
    "rand_search = RandomizedSearchCV(rf, \n",
    "                                 param_distributions = param_dist, \n",
    "                                 n_iter=5, \n",
    "                                 cv=5)\n",
    "\n",
    "# Fit the random search object to the data\n",
    "rand_search.fit(X_train_3, y_train)\n",
    "\n",
    "# Create a variable for the best model\n",
    "best_rf = rand_search.best_estimator_\n",
    "\n",
    "# Print the best hyperparameters\n",
    "print('Best hyperparameters:',  rand_search.best_params_)\n",
    "\n"
   ]
  },
  {
   "cell_type": "code",
   "execution_count": null,
   "id": "84e4d0b3",
   "metadata": {},
   "outputs": [],
   "source": [
    "# Generate predictions with the best model\n",
    "y_pred = best_rf.predict(X_test_3)\n",
    "\n",
    "accuracy = accuracy_score(y_test, y_pred)\n",
    "\n",
    "print(\"Test set Accuracy:\", accuracy)\n",
    "\n",
    "y_pred = best_rf.predict(X_train_3)\n",
    "accuracy = accuracy_score(y_train, y_pred)\n",
    "\n",
    "print(\"Train set Accuracy:\", accuracy)"
   ]
  },
  {
   "cell_type": "markdown",
   "id": "c0b55df2",
   "metadata": {},
   "source": [
    "### 5.3 Build Logistic regression model"
   ]
  },
  {
   "cell_type": "code",
   "execution_count": null,
   "id": "81d927c2",
   "metadata": {},
   "outputs": [],
   "source": [
    "df.info()"
   ]
  },
  {
   "cell_type": "code",
   "execution_count": null,
   "id": "a4172710",
   "metadata": {},
   "outputs": [],
   "source": [
    "logreg = LogisticRegression(solver='liblinear')\n",
    "logreg.fit(X_train, y_train)\n"
   ]
  },
  {
   "cell_type": "code",
   "execution_count": null,
   "id": "86cf347a",
   "metadata": {},
   "outputs": [],
   "source": [
    "y_pred_test = logreg.predict(X_test)\n",
    "accuracy = accuracy_score(y_test, y_pred_test)\n",
    "print(\"Test set accuracy:\", accuracy)"
   ]
  },
  {
   "cell_type": "code",
   "execution_count": null,
   "id": "440e5ae9",
   "metadata": {},
   "outputs": [],
   "source": [
    "y_pred_train = logreg.predict(X_train)\n",
    "accuracy = accuracy_score(y_train, y_pred_train)\n",
    "print(\"Training set accuracy:\", accuracy)"
   ]
  },
  {
   "cell_type": "markdown",
   "id": "48f4a61a",
   "metadata": {},
   "source": [
    "#### Checking for overfitting\n",
    "The accuracy on training set is 0.8152 while the accuracy on test set is 0.7528. The former is obviously bigger the the latter one, therefore this is overfitting in this model."
   ]
  },
  {
   "cell_type": "code",
   "execution_count": null,
   "id": "0656234f",
   "metadata": {},
   "outputs": [],
   "source": []
  },
  {
   "cell_type": "code",
   "execution_count": null,
   "id": "3c58992a",
   "metadata": {},
   "outputs": [],
   "source": [
    "logreg = LogisticRegression(solver='liblinear')\n",
    "scores_accuracy = cross_val_score(logreg, X_train, y_train, cv=10, scoring='accuracy')\n",
    "scores_accuracy.mean()"
   ]
  },
  {
   "cell_type": "code",
   "execution_count": null,
   "id": "4ee8acfb",
   "metadata": {},
   "outputs": [],
   "source": [
    "#print(logreg.__class__.__name__+\" accuracy is %2.3f\" % accuracy_score(y_test, y_pred))"
   ]
  },
  {
   "cell_type": "code",
   "execution_count": null,
   "id": "9302f6f2",
   "metadata": {},
   "outputs": [],
   "source": []
  },
  {
   "cell_type": "code",
   "execution_count": null,
   "id": "2ce2ee0c",
   "metadata": {},
   "outputs": [],
   "source": [
    "from sklearn.model_selection import GridSearchCV\n",
    "\n",
    "logreg = LogisticRegression(solver='liblinear')\n",
    "parameters = [{'penalty':['l1','l2']}, \n",
    "              {'C':[1, 10, 100, 1000]}]\n",
    "\n",
    "grid_search = GridSearchCV(estimator = logreg,  \n",
    "                           param_grid = parameters,\n",
    "                           scoring = 'accuracy',\n",
    "                           cv = 5,\n",
    "                           verbose=0)\n",
    "grid_search.fit(X_train, y_train)"
   ]
  },
  {
   "cell_type": "code",
   "execution_count": null,
   "id": "a19436a9",
   "metadata": {},
   "outputs": [],
   "source": [
    "# best score achieved during the GridSearchCV\n",
    "print('GridSearch CV best score : {:.4f}\\n\\n'.format(grid_search.best_score_))\n",
    "\n",
    "# print parameters that give the best results\n",
    "print('Parameters that give the best results :','\\n\\n', (grid_search.best_params_))\n",
    "\n",
    "# print estimator that was chosen by the GridSearch\n",
    "print('\\n\\nEstimator that was chosen by the search :','\\n\\n', (grid_search.best_estimator_))"
   ]
  },
  {
   "cell_type": "code",
   "execution_count": null,
   "id": "380c0f07",
   "metadata": {},
   "outputs": [],
   "source": [
    "# calculate GridSearch CV score on test set\n",
    "\n",
    "print('GridSearch CV score on test set: {0:0.4f}'.format(grid_search.score(X_test, y_test)))"
   ]
  },
  {
   "cell_type": "code",
   "execution_count": null,
   "id": "ea04b045",
   "metadata": {},
   "outputs": [],
   "source": [
    "coef = grid_search.best_estimator_.coef_\n",
    "coef"
   ]
  },
  {
   "cell_type": "code",
   "execution_count": null,
   "id": "051ccb7f",
   "metadata": {},
   "outputs": [],
   "source": [
    "X_train.head()"
   ]
  },
  {
   "cell_type": "code",
   "execution_count": null,
   "id": "5e9cafb6",
   "metadata": {},
   "outputs": [],
   "source": [
    "least_important_features = ['Parch', 'Fare', 'Boarded_Queenstown', 'Age_wiki']\n",
    "X_train_2 = X_train.drop(least_important_features, axis=1)\n",
    "X_test_2 = X_test.drop(least_important_features, axis=1)\n",
    "\n",
    "logreg = LogisticRegression(solver='liblinear')\n",
    "parameters = [{'penalty':['l1','l2']}, \n",
    "              {'C':[1, 10, 100, 1000]}]\n",
    "\n",
    "grid_search = GridSearchCV(estimator = logreg,  \n",
    "                           param_grid = parameters,\n",
    "                           scoring = 'accuracy',\n",
    "                           cv = 5,\n",
    "                           verbose=0)\n",
    "grid_search.fit(X_train_2, y_train)\n",
    "\n",
    "# best score achieved during the GridSearchCV\n",
    "print('GridSearch CV best score : {:.4f}\\n\\n'.format(grid_search.best_score_))\n",
    "\n",
    "# print parameters that give the best results\n",
    "print('Parameters that give the best results :','\\n\\n', (grid_search.best_params_))\n",
    "\n",
    "# print estimator that was chosen by the GridSearch\n",
    "print('\\n\\nEstimator that was chosen by the search :','\\n\\n', (grid_search.best_estimator_))\n",
    "\n",
    "print('GridSearch CV score on test set: {0:0.4f}'.format(grid_search.score(X_test_2, y_test)))\n",
    "coef = grid_search.best_estimator_.coef_\n",
    "coef"
   ]
  },
  {
   "cell_type": "code",
   "execution_count": null,
   "id": "0dfd88e5",
   "metadata": {},
   "outputs": [],
   "source": []
  },
  {
   "cell_type": "code",
   "execution_count": null,
   "id": "85520832",
   "metadata": {},
   "outputs": [],
   "source": []
  },
  {
   "cell_type": "code",
   "execution_count": null,
   "id": "35b07067",
   "metadata": {},
   "outputs": [],
   "source": []
  },
  {
   "cell_type": "code",
   "execution_count": null,
   "id": "e1c7d615",
   "metadata": {},
   "outputs": [],
   "source": [
    "def plotPerColumnDistribution(df, nGraphShown, nGraphPerRow):\n",
    "    nunique = df.nunique()\n",
    "    #df = df[[col for col in df if nunique[col] > 1 and nunique[col] < 50]] # For displaying purposes, pick columns that have between 1 and 50 unique values\n",
    "    nRow, nCol = df.shape\n",
    "    print(\"df.shape\", df.shape)\n",
    "    columnNames = list(df)\n",
    "    nGraphRow = round((nCol + nGraphPerRow - 1) / nGraphPerRow)\n",
    "    print(\"nCol:{} nGrapShown:{} nGraphRow:{}\".format(nCol, nGraphShown, nGraphRow))\n",
    "    plt.figure(num = None, figsize = (6 * nGraphPerRow, 8 * nGraphRow), dpi = 80, facecolor = 'w', edgecolor = 'k')\n",
    "    for i in range(min(nCol, nGraphShown)):\n",
    "        plt.subplot(nGraphRow, nGraphPerRow, i + 1)\n",
    "        columnDf = df.iloc[:, i]\n",
    "        if (not np.issubdtype(type(columnDf.iloc[0]), np.number)):\n",
    "            valueCounts = columnDf.value_counts()\n",
    "            valueCounts.plot.bar()\n",
    "        else:\n",
    "            columnDf.hist()\n",
    "        plt.ylabel('counts')\n",
    "        plt.xticks(rotation = 90)\n",
    "        plt.title(f'{columnNames[i]} (column {i})')\n",
    "    plt.tight_layout(pad = 1.0, w_pad = 1.0, h_pad = 1.0)\n",
    "    plt.show()\n",
    "    \n",
    "plotPerColumnDistribution(df, 18, 3)"
   ]
  },
  {
   "cell_type": "code",
   "execution_count": null,
   "id": "fb391070",
   "metadata": {},
   "outputs": [],
   "source": [
    "#unhelpful_features = ['PassengerId', 'Ticket', 'WikiId', 'Name_wiki', 'Hometown', 'Boarded', 'Destination']\n",
    "#unhelpful_features = ['PassengerId', 'Ticket', 'WikiId', 'Name_wiki']\n",
    "\n"
   ]
  },
  {
   "cell_type": "code",
   "execution_count": null,
   "id": "81b437be",
   "metadata": {
    "scrolled": false
   },
   "outputs": [],
   "source": [
    "plotPerColumnDistribution(df, 12, 4)"
   ]
  },
  {
   "cell_type": "code",
   "execution_count": null,
   "id": "f64d6111",
   "metadata": {},
   "outputs": [],
   "source": []
  }
 ],
 "metadata": {
  "kernelspec": {
   "display_name": "Python 3 (ipykernel)",
   "language": "python",
   "name": "python3"
  },
  "language_info": {
   "codemirror_mode": {
    "name": "ipython",
    "version": 3
   },
   "file_extension": ".py",
   "mimetype": "text/x-python",
   "name": "python",
   "nbconvert_exporter": "python",
   "pygments_lexer": "ipython3",
   "version": "3.11.4"
  }
 },
 "nbformat": 4,
 "nbformat_minor": 5
}
